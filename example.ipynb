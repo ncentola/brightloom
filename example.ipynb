{
 "cells": [
  {
   "cell_type": "code",
   "execution_count": 15,
   "metadata": {},
   "outputs": [],
   "source": [
    "from brightloom.brightloom import Brightloom\n",
    "from configparser import ConfigParser\n",
    "import pandas as pd\n",
    "import os"
   ]
  },
  {
   "cell_type": "code",
   "execution_count": 17,
   "metadata": {},
   "outputs": [],
   "source": [
    "config=ConfigParser()\n",
    "_ = config.read(os.path.expanduser('~/.config/brightloom.cfg'))"
   ]
  },
  {
   "cell_type": "code",
   "execution_count": 19,
   "metadata": {},
   "outputs": [],
   "source": [
    "b = Brightloom(api_key=config['credentials']['api_key'], env='prod')"
   ]
  },
  {
   "cell_type": "code",
   "execution_count": 20,
   "metadata": {},
   "outputs": [],
   "source": [
    "stores = b.get_stores()"
   ]
  },
  {
   "cell_type": "code",
   "execution_count": 22,
   "metadata": {},
   "outputs": [],
   "source": [
    "all_data = [store.get_orders(created_at_start='2019-08-15') for store in stores]"
   ]
  },
  {
   "cell_type": "code",
   "execution_count": 32,
   "metadata": {},
   "outputs": [],
   "source": [
    "orders = pd.concat([store_data['orders'] for store_data in all_data])\n",
    "line_items = pd.concat([store_data['line_items'] for store_data in all_data])\n",
    "applied_taxes = pd.concat([store_data['applied_taxes'] for store_data in all_data])\n",
    "modifications = pd.concat([store_data['modifications'] for store_data in all_data])"
   ]
  }
 ],
 "metadata": {
  "kernelspec": {
   "display_name": "brightloom",
   "language": "python",
   "name": "brightloom"
  },
  "language_info": {
   "codemirror_mode": {
    "name": "ipython",
    "version": 3
   },
   "file_extension": ".py",
   "mimetype": "text/x-python",
   "name": "python",
   "nbconvert_exporter": "python",
   "pygments_lexer": "ipython3",
   "version": "3.7.4"
  }
 },
 "nbformat": 4,
 "nbformat_minor": 2
}
